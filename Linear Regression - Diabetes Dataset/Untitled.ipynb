{
 "cells": [
  {
   "cell_type": "code",
   "execution_count": 1,
   "metadata": {},
   "outputs": [],
   "source": [
    "import numpy as np\n",
    "import pandas as pd\n",
    "data=np.genfromtxt('0000000000002329_training_diabetes_x_y_train.csv',delimiter=',')\n",
    "x_train=data[:,0:10]\n",
    "y_train=data[:,10:11].reshape(-1,1)\n",
    "from sklearn.linear_model import LinearRegression\n",
    "arg=LinearRegression()\n",
    "arg.fit(x_train,y_train)\n",
    "x_test=np.genfromtxt('0000000000002329_test_diabetes_x_test.csv',delimiter=',')\n",
    "y_pred=arg.predict(x_test)\n"
   ]
  },
  {
   "cell_type": "code",
   "execution_count": null,
   "metadata": {},
   "outputs": [],
   "source": []
  },
  {
   "cell_type": "code",
   "execution_count": null,
   "metadata": {},
   "outputs": [],
   "source": []
  }
 ],
 "metadata": {
  "kernelspec": {
   "display_name": "Python 3",
   "language": "python",
   "name": "python3"
  },
  "language_info": {
   "codemirror_mode": {
    "name": "ipython",
    "version": 3
   },
   "file_extension": ".py",
   "mimetype": "text/x-python",
   "name": "python",
   "nbconvert_exporter": "python",
   "pygments_lexer": "ipython3",
   "version": "3.7.4"
  }
 },
 "nbformat": 4,
 "nbformat_minor": 2
}
